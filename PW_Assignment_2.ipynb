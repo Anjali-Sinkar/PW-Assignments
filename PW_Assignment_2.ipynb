{
  "nbformat": 4,
  "nbformat_minor": 0,
  "metadata": {
    "colab": {
      "provenance": []
    },
    "kernelspec": {
      "name": "python3",
      "display_name": "Python 3"
    },
    "language_info": {
      "name": "python"
    }
  },
  "cells": [
    {
      "cell_type": "markdown",
      "source": [
        "# 1. What are data structures, and why are they important?\n",
        "\n",
        "Data structures are ways to store and organize data in a computer so that it can be used efficiently.\n",
        "\n",
        "They are important because they help in:\n",
        "\n",
        "* Organizing large amounts of data.\n",
        "\n",
        "* Performing operations like searching, sorting, and updating quickly.\n",
        "\n",
        "* Choosing the right structure improves program speed and memory usage."
      ],
      "metadata": {
        "id": "XD14ZVO3Pak4"
      }
    },
    {
      "cell_type": "markdown",
      "source": [
        "# 2. Explain the difference between mutable and immutable data types with examples.\n",
        "\n",
        "Mutable data types can be changed after creation.\n",
        "\n",
        "Example: list, dict, set\n",
        "\n",
        "Immutable data types cannot be changed after creation.\n",
        "\n",
        "Example: int, float, str, tuple"
      ],
      "metadata": {
        "id": "nWM45L9bPacD"
      }
    },
    {
      "cell_type": "markdown",
      "source": [
        "# 3. What are the main differences between lists and tuples in Python?\n",
        "\n",
        "Lists are mutable; tuples are immutable.\n",
        "\n",
        "Lists use []; tuples use ().\n",
        "\n",
        "Lists can be modified (add, remove, change elements), tuples cannot.\n",
        "\n",
        "Tuples are faster and use less memory.\n",
        "\n"
      ],
      "metadata": {
        "id": "vArnkxetPaXd"
      }
    },
    {
      "cell_type": "markdown",
      "source": [
        "# 4. Describe how dictionaries store data?\n",
        "\n",
        "Dictionaries store data in key-value pairs.\n",
        "\n",
        "Each value is accessed using its key.\n",
        "\n",
        "Keys must be unique and immutable (like strings, numbers, or tuples).\n",
        "\n",
        "student = {\"name\": \"Kick\", \"age\": 20}\n",
        "print(student[\"name\"])  \n",
        "\n",
        "Outputs: Kick\n"
      ],
      "metadata": {
        "id": "14BzO5dYPaV1"
      }
    },
    {
      "cell_type": "markdown",
      "source": [
        "# 5. Why might you use a set instead of a list in Python?\n",
        "\n",
        "We might use a set instead of a list when:\n",
        "\n",
        "* We need only unique values.\n",
        "\n",
        "* We want fast lookup (checking if an item exists).\n",
        "\n",
        "* We want to perform set operations like union, intersection, difference."
      ],
      "metadata": {
        "id": "o8Vb1y8zPaRv"
      }
    },
    {
      "cell_type": "markdown",
      "source": [
        "# 6. What is a string in Python, and how is it different from a list?\n",
        "\n",
        "A string in Python is a sequence of characters enclosed in quotes (\" \" or ' ').\n",
        "\n",
        "A list is a sequence of items which can be of any type.\n",
        "\n",
        "Key differences:\n",
        "\n",
        "* Strings are immutable; lists are mutable.\n",
        "\n",
        "* Strings store only characters; lists can store multiple data types.\n",
        "\n",
        "* Strings use 'h', 'e', 'l', etc.; lists can use [1, \"hi\", True]."
      ],
      "metadata": {
        "id": "HPeh5PGJPaQO"
      }
    },
    {
      "cell_type": "markdown",
      "source": [
        "# 7. How do tuples ensure data integrity in Python?\n",
        "\n",
        "Tuples are immutable, meaning their content cannot be changed after creation.\n",
        "\n",
        "This ensures data integrity by:\n",
        "\n",
        "* Preventing accidental modifications.\n",
        "\n",
        "* Making the data safe for use as keys in dictionaries or elements in sets."
      ],
      "metadata": {
        "id": "Xsh2g9LdPaMZ"
      }
    },
    {
      "cell_type": "markdown",
      "source": [
        "# 8.  What is a hash table, and how does it relate to dictionaries in Python?\n",
        "\n",
        "A hash table is a data structure that maps keys to values using a hash function.\n",
        "\n",
        "In Python, dictionaries are implemented using hash tables.\n",
        "\n",
        "Keys are hashed into a location in memory.\n",
        "\n",
        "This allows fast lookups, insertions, and deletions."
      ],
      "metadata": {
        "id": "5wY1P7sQPaK0"
      }
    },
    {
      "cell_type": "markdown",
      "source": [
        "# 9. Can lists contain different data types in Python?\n",
        "\n",
        "Yes!\n",
        "\n",
        "Lists in Python can hold items of mixed data types, such as:\n",
        "\n",
        "my_list = [1, \"hello\", True, 3.14]\n",
        "\n",
        "This makes lists very flexible."
      ],
      "metadata": {
        "id": "DkM8GZcMPZpe"
      }
    },
    {
      "cell_type": "markdown",
      "source": [
        "# 10. Explain why strings are immutable in Python?\n",
        "\n",
        "Strings are immutable because:\n",
        "\n",
        "* Once created, their content cannot be changed.\n",
        "\n",
        "* This improves performance and security.\n",
        "\n",
        "* It makes strings safe to use in places where data must remain constant (e.g., dictionary keys)."
      ],
      "metadata": {
        "id": "W3qCTQfNf6fJ"
      }
    },
    {
      "cell_type": "markdown",
      "source": [
        "# 11. What advantages do dictionaries offer over lists for certain tasks?\n",
        "\n",
        "Key-based access: You can access values by keys instead of indexes.\n",
        "\n",
        "Faster lookups: Especially when searching for specific data.\n",
        "\n",
        "Structured data: You can clearly pair labels (keys) with values.\n",
        "\n",
        "No need to remember index positions."
      ],
      "metadata": {
        "id": "rbYDHajGf6dZ"
      }
    },
    {
      "cell_type": "markdown",
      "source": [
        "# 12. Describe a scenario where using a tuple would be preferable over a list?\n",
        "\n",
        "Use a tuple when you want to protect the data from changes.\n",
        "\n",
        "Example: Storing coordinates (x, y) or dates like (2025, 4, 16).\n",
        "\n",
        "Since tuples are immutable, they ensure the data stays constant."
      ],
      "metadata": {
        "id": "J1Vj8ER2f6WV"
      }
    },
    {
      "cell_type": "markdown",
      "source": [
        "# 13. How do sets handle duplicate values in Python?\n",
        "\n",
        "Sets automatically remove duplicates.\n",
        "\n",
        "Only unique elements are stored.\n",
        "\n",
        "Example:  set([1, 2, 2, 3])  # Result: {1, 2, 3}\n",
        "\n"
      ],
      "metadata": {
        "id": "9wZ1xzVpf6Uw"
      }
    },
    {
      "cell_type": "markdown",
      "source": [
        "# 14.  How does the “in” keyword work differently for lists and dictionaries?\n",
        "\n",
        "In lists, \"in\" checks if a value exists.\n",
        "\n",
        "Example : 2 in [1, 2, 3]  # True\n",
        "\n",
        "In dictionaries, \"in\" checks if a key exists.\n",
        "\n",
        "Example: \"name\" in {\"name\": \"Alice\"}  # True\n"
      ],
      "metadata": {
        "id": "9aZe0T98f6RC"
      }
    },
    {
      "cell_type": "markdown",
      "source": [
        "# 15.  Can you modify the elements of a tuple? Explain why or why not.\n",
        "\n",
        "No, you cannot modify tuple elements.\n",
        "\n",
        "Tuples are immutable, meaning once created, the values cannot be changed."
      ],
      "metadata": {
        "id": "5xvOeH_cf6PW"
      }
    },
    {
      "cell_type": "markdown",
      "source": [
        "# 16. What is a nested dictionary, and give an example of its use case?\n",
        "\n",
        "A nested dictionary is a dictionary inside another dictionary.\n",
        "\n",
        "Example:\n",
        "\n",
        "students = {\n",
        "  \"student1\": {\"name\": \"Alice\", \"age\": 20},\n",
        "  \"student2\": {\"name\": \"Bob\", \"age\": 22}\n",
        "}\n",
        "\n",
        "Use case: Storing data for multiple objects (like users or students) in one structure."
      ],
      "metadata": {
        "id": "EzufxooSf6Ln"
      }
    },
    {
      "cell_type": "markdown",
      "source": [
        "# 17. Describe the time complexity of accessing elements in a dictionary.\n",
        "\n",
        "Accessing an element in a dictionary has O(1) time complexity (on average),\n",
        "which means it is very fast, thanks to the use of hash tables."
      ],
      "metadata": {
        "id": "qju2pRzqf6KB"
      }
    },
    {
      "cell_type": "markdown",
      "source": [
        "# 18. In what situations are lists preferred over dictionaries?\n",
        "\n",
        "Use a list when:\n",
        "\n",
        "* Order matters.\n",
        "\n",
        "* We’re storing simple sequences of values.\n",
        "\n",
        "* We don’t need labeled data.\n",
        "\n",
        "Example: List of numbers, colors, or names: [\"red\", \"green\", \"blue\"]"
      ],
      "metadata": {
        "id": "Jf9-b9sDiiQa"
      }
    },
    {
      "cell_type": "markdown",
      "source": [
        "# 19.  Why are dictionaries considered unordered, and how does that affect data retrieval?\n",
        "\n",
        "Before Python 3.7, dictionaries were unordered, meaning they didn’t keep the order of keys.\n",
        "\n",
        "From Python 3.7+, they maintain insertion order, but conceptually they're still used for key-based access, not position.\n",
        "\n",
        "It doesn’t affect retrieval by key, but you can’t access values by index like in a list."
      ],
      "metadata": {
        "id": "Gp0z2Y0YihuZ"
      }
    },
    {
      "cell_type": "markdown",
      "source": [
        "# 20. Explain the difference between a list and a dictionary in terms of data retrieval.\n",
        "\n",
        "In a list, you retrieve data by index (number position).\n",
        "\n",
        "Example: colors[0]  # First item\n",
        "\n",
        "In a dictionary, you retrieve data by key (name or label).\n",
        "\n",
        "Example: person[\"name\"]  # Value associated with the key \"name\"\n"
      ],
      "metadata": {
        "id": "0zPH36Tnihs2"
      }
    },
    {
      "cell_type": "code",
      "execution_count": 1,
      "metadata": {
        "colab": {
          "base_uri": "https://localhost:8080/"
        },
        "id": "qNP_8l23PTH6",
        "outputId": "874f1a43-b35b-4826-f880-9c65f9b8715d"
      },
      "outputs": [
        {
          "output_type": "stream",
          "name": "stdout",
          "text": [
            "Kick\n"
          ]
        }
      ],
      "source": [
        "# Write a code to create a string with your name and print it\n",
        "name = \"Kick\"\n",
        "print(name)\n"
      ]
    },
    {
      "cell_type": "code",
      "source": [
        "# Write a code to find the length of the string \"Hello World\"\n",
        "text = \"Hello World\"\n",
        "print(len(text))"
      ],
      "metadata": {
        "colab": {
          "base_uri": "https://localhost:8080/"
        },
        "id": "qenVoCiOlP_D",
        "outputId": "6cd99d4f-bc0e-46e6-9e19-d13140bd57e9"
      },
      "execution_count": 2,
      "outputs": [
        {
          "output_type": "stream",
          "name": "stdout",
          "text": [
            "11\n"
          ]
        }
      ]
    },
    {
      "cell_type": "code",
      "source": [
        "# Write a code to slice the first 3 characters from the string \"Python Programming\"\n",
        "text = \"Python Programming\"\n",
        "print(text[:3])"
      ],
      "metadata": {
        "colab": {
          "base_uri": "https://localhost:8080/"
        },
        "id": "327gJ8sSlae1",
        "outputId": "12d031f4-0c46-49dc-b987-679ee081faad"
      },
      "execution_count": 3,
      "outputs": [
        {
          "output_type": "stream",
          "name": "stdout",
          "text": [
            "Pyt\n"
          ]
        }
      ]
    },
    {
      "cell_type": "code",
      "source": [
        "# Write a code to convert the string \"hello\" to uppercase\n",
        "word = \"hello\"\n",
        "print(word.upper())"
      ],
      "metadata": {
        "colab": {
          "base_uri": "https://localhost:8080/"
        },
        "id": "8tJEyC0DlkUN",
        "outputId": "b7d6b66b-171a-451c-fa23-762e841991c7"
      },
      "execution_count": 4,
      "outputs": [
        {
          "output_type": "stream",
          "name": "stdout",
          "text": [
            "HELLO\n"
          ]
        }
      ]
    },
    {
      "cell_type": "code",
      "source": [
        "# Write a code to replace the word \"apple\" with \"orange\" in the string \"I like apple\"\n",
        "sentence = \"I like apple\"\n",
        "print(sentence.replace(\"apple\", \"orange\"))"
      ],
      "metadata": {
        "colab": {
          "base_uri": "https://localhost:8080/"
        },
        "id": "CzuFFnrWmX43",
        "outputId": "040352ee-2745-40b0-efad-9b7f1db6de16"
      },
      "execution_count": 5,
      "outputs": [
        {
          "output_type": "stream",
          "name": "stdout",
          "text": [
            "I like orange\n"
          ]
        }
      ]
    },
    {
      "cell_type": "code",
      "source": [
        "# Write a code to create a list with numbers 1 to 5 and print it\n",
        "numbers = [1, 2, 3, 4, 5]\n",
        "print(numbers)"
      ],
      "metadata": {
        "colab": {
          "base_uri": "https://localhost:8080/"
        },
        "id": "16HroOUYmgpL",
        "outputId": "cd1874fb-0fe2-4435-d2a2-58e08c31400c"
      },
      "execution_count": 6,
      "outputs": [
        {
          "output_type": "stream",
          "name": "stdout",
          "text": [
            "[1, 2, 3, 4, 5]\n"
          ]
        }
      ]
    },
    {
      "cell_type": "code",
      "source": [
        "# Write a code to append the number 10 to the list [1, 2, 3, 4]\n",
        "numbers = [1, 2, 3, 4]\n",
        "numbers.append(10)\n",
        "print(numbers)"
      ],
      "metadata": {
        "colab": {
          "base_uri": "https://localhost:8080/"
        },
        "id": "vP6iDvgAmyGQ",
        "outputId": "679596d1-8829-40e0-fbde-755b2a78d800"
      },
      "execution_count": 7,
      "outputs": [
        {
          "output_type": "stream",
          "name": "stdout",
          "text": [
            "[1, 2, 3, 4, 10]\n"
          ]
        }
      ]
    },
    {
      "cell_type": "code",
      "source": [
        "# Write a code to remove the number 3 from the list [1, 2, 3, 4, 5]\n",
        "numbers = [1, 2, 3, 4, 5]\n",
        "numbers.remove(3)\n",
        "print(numbers)"
      ],
      "metadata": {
        "colab": {
          "base_uri": "https://localhost:8080/"
        },
        "id": "tkW0V1TuoX8F",
        "outputId": "aea30a20-1a54-4bf0-eb7c-ff128ce51ca7"
      },
      "execution_count": 8,
      "outputs": [
        {
          "output_type": "stream",
          "name": "stdout",
          "text": [
            "[1, 2, 4, 5]\n"
          ]
        }
      ]
    },
    {
      "cell_type": "code",
      "source": [
        "# Write a code to access the second element in the list ['a', 'b', 'c', 'd']\n",
        "letters = ['a', 'b', 'c', 'd']\n",
        "print(letters[1])"
      ],
      "metadata": {
        "colab": {
          "base_uri": "https://localhost:8080/"
        },
        "id": "nOEny0TWohEl",
        "outputId": "7cc7ca19-1725-47de-8465-b42ce13ddbab"
      },
      "execution_count": 9,
      "outputs": [
        {
          "output_type": "stream",
          "name": "stdout",
          "text": [
            "b\n"
          ]
        }
      ]
    },
    {
      "cell_type": "code",
      "source": [
        "# Write a code to reverse the list [10, 20, 30, 40, 50]\n",
        "numbers = [10, 20, 30, 40, 50]\n",
        "numbers.reverse()\n",
        "print(numbers)"
      ],
      "metadata": {
        "colab": {
          "base_uri": "https://localhost:8080/"
        },
        "id": "Rnq6DazCoo_5",
        "outputId": "954e7979-9aa1-42c0-9fd3-277a803be419"
      },
      "execution_count": 10,
      "outputs": [
        {
          "output_type": "stream",
          "name": "stdout",
          "text": [
            "[50, 40, 30, 20, 10]\n"
          ]
        }
      ]
    },
    {
      "cell_type": "code",
      "source": [
        "# Write a code to create a tuple with the elements 100, 200, 300 and print it\n",
        "my_tuple = (100, 200, 300)\n",
        "print(my_tuple)"
      ],
      "metadata": {
        "colab": {
          "base_uri": "https://localhost:8080/"
        },
        "id": "J_X-6Dm1oxe6",
        "outputId": "ea9b77ec-a13b-4e99-fea4-6870a4b31ba4"
      },
      "execution_count": 11,
      "outputs": [
        {
          "output_type": "stream",
          "name": "stdout",
          "text": [
            "(100, 200, 300)\n"
          ]
        }
      ]
    },
    {
      "cell_type": "code",
      "source": [
        "# Write a code to access the second-to-last element of the tuple ('red', 'green', 'blue', 'yellow').\n",
        "colors = ('red', 'green', 'blue', 'yellow')\n",
        "print(colors[-2])"
      ],
      "metadata": {
        "colab": {
          "base_uri": "https://localhost:8080/"
        },
        "id": "RLj99803pghc",
        "outputId": "4b42085b-6d39-4e27-ba22-1770d6835b5b"
      },
      "execution_count": 12,
      "outputs": [
        {
          "output_type": "stream",
          "name": "stdout",
          "text": [
            "blue\n"
          ]
        }
      ]
    },
    {
      "cell_type": "code",
      "source": [
        "# Write a code to find the minimum number in the tuple (10, 20, 5, 15)\n",
        "numbers = (10, 20, 5, 15)\n",
        "print(min(numbers))"
      ],
      "metadata": {
        "colab": {
          "base_uri": "https://localhost:8080/"
        },
        "id": "-ieHGNARp2U2",
        "outputId": "2985456c-b0f1-46d9-9a0d-10f43d17f74a"
      },
      "execution_count": 13,
      "outputs": [
        {
          "output_type": "stream",
          "name": "stdout",
          "text": [
            "5\n"
          ]
        }
      ]
    },
    {
      "cell_type": "code",
      "source": [
        "# Write a code to find the index of the element \"cat\" in the tuple ('dog', 'cat', 'rabbit')\n",
        "animals = ('dog', 'cat', 'rabbit')\n",
        "print(animals.index('cat'))"
      ],
      "metadata": {
        "colab": {
          "base_uri": "https://localhost:8080/"
        },
        "id": "bj-_Mi7ZtiJ9",
        "outputId": "9d40214f-60fa-4d4f-875a-e6221587729a"
      },
      "execution_count": 14,
      "outputs": [
        {
          "output_type": "stream",
          "name": "stdout",
          "text": [
            "1\n"
          ]
        }
      ]
    },
    {
      "cell_type": "code",
      "source": [
        "# Write a code to create a tuple containing three different fruits and check if \"kiwi\" is in it.\n",
        "fruits = (\"apple\", \"banana\", \"mango\")\n",
        "print(\"kiwi\" in fruits)"
      ],
      "metadata": {
        "colab": {
          "base_uri": "https://localhost:8080/"
        },
        "id": "p55HIxfBtqj3",
        "outputId": "0f4e5b46-758a-420c-df90-3d2af7749ad9"
      },
      "execution_count": 15,
      "outputs": [
        {
          "output_type": "stream",
          "name": "stdout",
          "text": [
            "False\n"
          ]
        }
      ]
    },
    {
      "cell_type": "code",
      "source": [
        "# Write a code to create a set with the elements 'a', 'b', 'c' and print it.\n",
        "my_set = {'a', 'b', 'c'}\n",
        "print(my_set)"
      ],
      "metadata": {
        "colab": {
          "base_uri": "https://localhost:8080/"
        },
        "id": "b4hXM-5Gt3eb",
        "outputId": "5ae15c72-4d4c-4ec6-b7a8-299e36acab3e"
      },
      "execution_count": 16,
      "outputs": [
        {
          "output_type": "stream",
          "name": "stdout",
          "text": [
            "{'b', 'a', 'c'}\n"
          ]
        }
      ]
    },
    {
      "cell_type": "code",
      "source": [
        "# Write a code to clear all elements from the set {1, 2, 3, 4, 5}\n",
        "my_set = {1, 2, 3, 4, 5}\n",
        "my_set.clear()\n",
        "print(my_set)"
      ],
      "metadata": {
        "colab": {
          "base_uri": "https://localhost:8080/"
        },
        "id": "54HPcgi4usEu",
        "outputId": "29c13ffb-71be-43e7-98e9-8df551419d08"
      },
      "execution_count": 17,
      "outputs": [
        {
          "output_type": "stream",
          "name": "stdout",
          "text": [
            "set()\n"
          ]
        }
      ]
    },
    {
      "cell_type": "code",
      "source": [
        "#  Write a code to remove the element 4 from the set {1, 2, 3, 4}\n",
        "my_set = {1, 2, 3, 4}\n",
        "my_set.remove(4)\n",
        "print(my_set)"
      ],
      "metadata": {
        "colab": {
          "base_uri": "https://localhost:8080/"
        },
        "id": "69Ws_QfxvPib",
        "outputId": "3efb2b41-92e3-4e22-a6bd-565b4dceb88c"
      },
      "execution_count": 18,
      "outputs": [
        {
          "output_type": "stream",
          "name": "stdout",
          "text": [
            "{1, 2, 3}\n"
          ]
        }
      ]
    },
    {
      "cell_type": "code",
      "source": [
        "# Write a code to find the union of two sets {1, 2, 3} and {3, 4, 5}.\n",
        "set1 = {1, 2, 3}\n",
        "set2 = {3, 4, 5}\n",
        "union_set = set1.union(set2)\n",
        "print(union_set)"
      ],
      "metadata": {
        "colab": {
          "base_uri": "https://localhost:8080/"
        },
        "id": "xjnSPgbQvn17",
        "outputId": "9073f6bc-84d9-43df-813c-adac871c89bd"
      },
      "execution_count": 19,
      "outputs": [
        {
          "output_type": "stream",
          "name": "stdout",
          "text": [
            "{1, 2, 3, 4, 5}\n"
          ]
        }
      ]
    },
    {
      "cell_type": "code",
      "source": [
        "# Write a code to find the intersection of two sets {1, 2, 3} and {2, 3, 4}\n",
        "set1 = {1, 2, 3}\n",
        "set2 = {2, 3, 4}\n",
        "intersection_set = set1.intersection(set2)\n",
        "print(intersection_set)"
      ],
      "metadata": {
        "colab": {
          "base_uri": "https://localhost:8080/"
        },
        "id": "TgbiNS2kwAdA",
        "outputId": "0d775f00-a691-406c-814c-aa09ee06b244"
      },
      "execution_count": 20,
      "outputs": [
        {
          "output_type": "stream",
          "name": "stdout",
          "text": [
            "{2, 3}\n"
          ]
        }
      ]
    },
    {
      "cell_type": "code",
      "source": [
        "# Write a code to create a dictionary with the keys \"name\", \"age\", and \"city\", and print it.\n",
        "person = {\n",
        "    \"name\": \"Kick\",\n",
        "    \"age\": 20,\n",
        "    \"city\": \"Pimpri\"\n",
        "}\n",
        "print(person)"
      ],
      "metadata": {
        "colab": {
          "base_uri": "https://localhost:8080/"
        },
        "id": "QKjXCWi1wdwY",
        "outputId": "f74cd0fa-3ba1-46bf-b432-f16aa7b00df1"
      },
      "execution_count": 21,
      "outputs": [
        {
          "output_type": "stream",
          "name": "stdout",
          "text": [
            "{'name': 'Kick', 'age': 20, 'city': 'Pimpri'}\n"
          ]
        }
      ]
    },
    {
      "cell_type": "code",
      "source": [
        "# Write a code to add a new key-value pair \"country\": \"USA\" to the dictionary {'name': 'John', 'age': 25}.\n",
        "person = {'name': 'John', 'age': 25}\n",
        "person['country'] = 'USA'\n",
        "print(person)"
      ],
      "metadata": {
        "colab": {
          "base_uri": "https://localhost:8080/"
        },
        "id": "1ibzG6kUwrBQ",
        "outputId": "ba22a6a1-eeb9-4c4e-a0db-31932d7354cf"
      },
      "execution_count": 23,
      "outputs": [
        {
          "output_type": "stream",
          "name": "stdout",
          "text": [
            "{'name': 'John', 'age': 25, 'country': 'USA'}\n"
          ]
        }
      ]
    },
    {
      "cell_type": "code",
      "source": [
        "# Write a code to access the value associated with the key \"name\" in the dictionary {'name': 'Alice', 'age': 30}.\n",
        "person = {'name': 'Alice', 'age': 30}\n",
        "print(person['name'])"
      ],
      "metadata": {
        "colab": {
          "base_uri": "https://localhost:8080/"
        },
        "id": "OAHcbfD9w6D4",
        "outputId": "450e7045-d0de-46f0-a393-eaae27f426bc"
      },
      "execution_count": 24,
      "outputs": [
        {
          "output_type": "stream",
          "name": "stdout",
          "text": [
            "Alice\n"
          ]
        }
      ]
    },
    {
      "cell_type": "code",
      "source": [
        "# Write a code to remove the key \"age\" from the dictionary {'name': 'Bob', 'age': 22, 'city': 'New York'}.\n",
        "person = {'name': 'Bob', 'age': 22, 'city': 'New York'}\n",
        "del person['age']\n",
        "print(person)"
      ],
      "metadata": {
        "colab": {
          "base_uri": "https://localhost:8080/"
        },
        "id": "w2At0P9ZxYkQ",
        "outputId": "3b7a0b8b-52cb-45e4-a7bb-ae58fc26c0a9"
      },
      "execution_count": 25,
      "outputs": [
        {
          "output_type": "stream",
          "name": "stdout",
          "text": [
            "{'name': 'Bob', 'city': 'New York'}\n"
          ]
        }
      ]
    },
    {
      "cell_type": "code",
      "source": [
        "# Write a code to check if the key \"city\" exists in the dictionary {'name': 'Alice', 'city': 'Paris'}.\n",
        "person = {'name': 'Alice', 'city': 'Paris'}\n",
        "if 'city' in person:\n",
        "    print(\"Key 'city' exists in the dictionary.\")\n",
        "else:\n",
        "    print(\"Key 'city' does not exist in the dictionary.\")"
      ],
      "metadata": {
        "colab": {
          "base_uri": "https://localhost:8080/"
        },
        "id": "bD51LIMk1Ci4",
        "outputId": "83e333c6-78fe-467f-b0d2-920e78ee54ea"
      },
      "execution_count": 26,
      "outputs": [
        {
          "output_type": "stream",
          "name": "stdout",
          "text": [
            "Key 'city' exists in the dictionary.\n"
          ]
        }
      ]
    },
    {
      "cell_type": "code",
      "source": [
        "# Write a code to create a list, a tuple, and a dictionary, and print them all.\n",
        "# Creating a list\n",
        "my_list = [1, 2, 3, 4, 5]\n",
        "\n",
        "# Creating a tuple\n",
        "my_tuple = ('apple', 'banana', 'cherry')\n",
        "\n",
        "# Creating a dictionary\n",
        "my_dict = {'name': 'John', 'age': 30, 'city': 'New York'}\n",
        "\n",
        "# Printing all\n",
        "print(\"List:\", my_list)\n",
        "print(\"Tuple:\", my_tuple)\n",
        "print(\"Dictionary:\", my_dict)"
      ],
      "metadata": {
        "colab": {
          "base_uri": "https://localhost:8080/"
        },
        "id": "75SP_Mkr2FH0",
        "outputId": "d33027e3-e903-4a6e-f2fc-8a99a213979e"
      },
      "execution_count": 27,
      "outputs": [
        {
          "output_type": "stream",
          "name": "stdout",
          "text": [
            "List: [1, 2, 3, 4, 5]\n",
            "Tuple: ('apple', 'banana', 'cherry')\n",
            "Dictionary: {'name': 'John', 'age': 30, 'city': 'New York'}\n"
          ]
        }
      ]
    },
    {
      "cell_type": "code",
      "source": [
        "# Write a code to create a list of 5 random numbers between 1 and 100, sort it in ascending order, and print the result.(replaced)\n",
        "import random\n",
        "\n",
        "# Create a list of 5 random numbers between 1 and 100\n",
        "random_numbers = [random.randint(1, 100) for _ in range(5)]\n",
        "\n",
        "# Sort the list in ascending order\n",
        "random_numbers.sort()\n",
        "\n",
        "# Print the sorted list\n",
        "print(random_numbers)"
      ],
      "metadata": {
        "colab": {
          "base_uri": "https://localhost:8080/"
        },
        "id": "oL-J9ki72P7J",
        "outputId": "70b7e30b-af2c-4852-a422-7e84da029e76"
      },
      "execution_count": 28,
      "outputs": [
        {
          "output_type": "stream",
          "name": "stdout",
          "text": [
            "[31, 45, 62, 72, 90]\n"
          ]
        }
      ]
    },
    {
      "cell_type": "code",
      "source": [
        "#  Write a code to create a list with strings and print the element at the third index\n",
        "# Creating a list with strings\n",
        "my_list = ['apple', 'banana', 'cherry', 'date', 'elderberry']\n",
        "\n",
        "# Accessing and printing the element at the third index\n",
        "print(my_list[3])"
      ],
      "metadata": {
        "colab": {
          "base_uri": "https://localhost:8080/"
        },
        "id": "d4EGksZz2s4O",
        "outputId": "1d7d9628-3c3c-4050-960c-ce03f5e87be1"
      },
      "execution_count": 29,
      "outputs": [
        {
          "output_type": "stream",
          "name": "stdout",
          "text": [
            "date\n"
          ]
        }
      ]
    },
    {
      "cell_type": "code",
      "source": [
        "# Write a code to combine two dictionaries into one and print the result.\n",
        "# Creating two dictionaries\n",
        "dict1 = {'name': 'Alice', 'age': 30}\n",
        "dict2 = {'city': 'Paris', 'country': 'France'}\n",
        "\n",
        "# Combining the dictionaries\n",
        "combined_dict = {**dict1, **dict2}\n",
        "\n",
        "# Printing the result\n",
        "print(combined_dict)"
      ],
      "metadata": {
        "colab": {
          "base_uri": "https://localhost:8080/"
        },
        "id": "4bAccFSb3QIU",
        "outputId": "dd4a4452-db57-46c8-e598-89007c8e2949"
      },
      "execution_count": 30,
      "outputs": [
        {
          "output_type": "stream",
          "name": "stdout",
          "text": [
            "{'name': 'Alice', 'age': 30, 'city': 'Paris', 'country': 'France'}\n"
          ]
        }
      ]
    },
    {
      "cell_type": "code",
      "source": [
        "# Write a code to convert a list of strings into a set.\n",
        "# Creating a list of strings\n",
        "my_list = ['apple', 'banana', 'cherry', 'apple', 'banana']\n",
        "\n",
        "# Converting the list into a set\n",
        "my_set = set(my_list)\n",
        "\n",
        "# Printing the result\n",
        "print(my_set)"
      ],
      "metadata": {
        "colab": {
          "base_uri": "https://localhost:8080/"
        },
        "id": "RXCVKst13Zce",
        "outputId": "9a2a500a-84c2-4e9d-d899-6422d5c5b823"
      },
      "execution_count": 31,
      "outputs": [
        {
          "output_type": "stream",
          "name": "stdout",
          "text": [
            "{'cherry', 'apple', 'banana'}\n"
          ]
        }
      ]
    },
    {
      "cell_type": "code",
      "source": [],
      "metadata": {
        "id": "0J8HxwM_3iYP"
      },
      "execution_count": null,
      "outputs": []
    }
  ]
}